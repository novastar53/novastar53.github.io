{
  "cells": [
    {
      "cell_type": "markdown",
      "metadata": {
        "id": "injijxAPEtBi"
      },
      "source": [
        "# How Do Residual Connections Work?\n",
        "\n",
        "Residual connections were introduced in the paper Deep Residual Learning for Image Recognition (He et al., 2015). Conceptually similar to and mathematically simpler than the gated connections used in highway networks (Srivastava et al., 2015), they made it possible to train much deeper neural networks than was previously possible.\n",
        "\n",
        "## What are Residual Connections?\n",
        "\n",
        "\n",
        "A residual connection directly connects non-adjacent layers, bypassing the intermediate ones. This is implemented by simply adding the input of a set of layers to its output.\n",
        "\n",
        "$$\n",
        "f(x) = x + g(x)\n",
        "$$\n",
        "\n",
        "where $f(x)$ represents the transformation for one or more layers. The authors proposed that it was simpler for a network to learn the residual $g(x)$ rather than the entire transformation $f(x)$, making it easier to train the network.\n",
        "\n",
        "![residual-connection](residual-connection.jpg)\n",
        "\n",
        "So, does this work? \n",
        "\n",
        "## Let's Set up the Experiment\n",
        "\n",
        "We will compare two CNN architectures - the ResNet architecture and a comparable network (\"DeepCNN\") without residual connections.\n",
        "For each architecture, we will compare networks with 20 and 56 layers.\n",
        "\n",
        "![fc-resnet](fc-resnet-side-by-side.jpg)\n",
        "\n",
        "\n",
        "\n",
        "\n",
        "\n"
      ]
    },
    {
      "cell_type": "markdown",
      "metadata": {},
      "source": [
        "### Let's Define the DeepCNN Model"
      ]
    },
    {
      "cell_type": "code",
      "execution_count": 7,
      "metadata": {
        "id": "tHV0sPRHEtBk"
      },
      "outputs": [],
      "source": [
        "from typing import Callable\n",
        "\n",
        "import jax\n",
        "import jax.numpy as jnp\n",
        "import optax\n",
        "import flax.linen as nn\n",
        "\n",
        "from flax.training import train_state\n",
        "import tensorflow_datasets as tfds\n",
        "\n",
        "\n",
        "N = 9 ## Number of basic blocks, each consisting of 2 convolutional layers."
      ]
    },
    {
      "cell_type": "code",
      "execution_count": 8,
      "metadata": {
        "id": "oCgxLn8PEtBk"
      },
      "outputs": [],
      "source": [
        "\n",
        "class ConvBlock(nn.Module):\n",
        "\n",
        "    stride: int\n",
        "    in_channels: int\n",
        "    out_channels: int\n",
        "    kernel_init: Callable = nn.initializers.he_normal()\n",
        "\n",
        "    @nn.compact\n",
        "    def __call__(self, x, train):\n",
        "\n",
        "        x = nn.Conv(features=self.in_channels, kernel_size=(3, 3), strides=1, padding='SAME', use_bias=False, kernel_init=self.kernel_init)(x)\n",
        "        x = nn.BatchNorm(use_running_average=not train, momentum=0.1, epsilon=1e-5)(x)\n",
        "        x = nn.relu(x)\n",
        "\n",
        "        x = nn.Conv(features=self.out_channels, kernel_size=(3, 3), strides=self.stride, padding='SAME', use_bias=False, kernel_init=self.kernel_init)(x)\n",
        "        x = nn.BatchNorm(use_running_average=not train, momentum=0.1, epsilon=1e-5)(x)\n",
        "        return nn.relu(x)\n",
        "\n",
        "\n",
        "class DeepCNN(nn.Module):\n",
        "\n",
        "    kernel_init: Callable = nn.initializers.he_normal()\n",
        "\n",
        "    @nn.compact\n",
        "    def __call__(self, x, train: bool):\n",
        "\n",
        "        x = nn.Conv(features=16, kernel_size=(3, 3), strides=1, padding=1, use_bias=False, kernel_init=self.kernel_init)(x)\n",
        "        x = nn.BatchNorm(use_running_average=not train, momentum=0.1, epsilon=1e-5)(x)\n",
        "        x = nn.relu(x)\n",
        "\n",
        "        for _ in range(N-1):\n",
        "          x = ConvBlock(stride=1, in_channels=16, out_channels=16)(x, train)\n",
        "        x = ConvBlock(stride=2, in_channels=16, out_channels=32)(x, train)\n",
        "\n",
        "        for _ in range(N-1):\n",
        "          x = ConvBlock(stride=1, in_channels=32, out_channels=32)(x, train)\n",
        "        x = ConvBlock(stride=2, in_channels=32, out_channels=64)(x, train)\n",
        "\n",
        "        for _ in range(N):\n",
        "          x = ConvBlock(stride=1, in_channels=64, out_channels=64)(x, train)\n",
        "\n",
        "        x = nn.avg_pool(x, window_shape=(x.shape[1], x.shape[2]))\n",
        "        x = x.reshape((x.shape[0], -1))  # Flatten\n",
        "\n",
        "        x = nn.Dense(features=10, kernel_init=self.kernel_init)(x) \n",
        "\n",
        "\n",
        "        return x"
      ]
    },
    {
      "cell_type": "markdown",
      "metadata": {
        "id": "63wVI3deEtBk"
      },
      "source": [
        "### Now, Let's Define the ResNet Model"
      ]
    },
    {
      "cell_type": "code",
      "execution_count": 9,
      "metadata": {
        "id": "yfGfp_m5EtBk"
      },
      "outputs": [],
      "source": [
        "class ResidualBlock(nn.Module):\n",
        "\n",
        "    in_channels: int\n",
        "    kernel_init: Callable = nn.initializers.kaiming_normal()\n",
        "\n",
        "    @nn.compact\n",
        "    def __call__(self, x, train):\n",
        "        residual = x\n",
        "\n",
        "        x = nn.Conv(features=self.in_channels,\n",
        "                    kernel_size=(3, 3),\n",
        "                    strides=1,\n",
        "                    padding=\"SAME\",\n",
        "                    use_bias=False,\n",
        "                    kernel_init=self.kernel_init)(x)\n",
        "        x = nn.BatchNorm(use_running_average=not train, momentum=0.1, epsilon=1e-5)(x)\n",
        "        x = nn.relu(x)\n",
        "\n",
        "        x = nn.Conv(features=self.in_channels,\n",
        "                    kernel_size=(3, 3),\n",
        "                    strides=1,\n",
        "                    padding=\"SAME\",\n",
        "                    use_bias=False,\n",
        "                    kernel_init=self.kernel_init)(x)\n",
        "        x = nn.BatchNorm(use_running_average=not train, momentum=0.1, epsilon=1e-5)(x)\n",
        "\n",
        "        x = x + residual\n",
        "\n",
        "        return nn.relu(x)\n",
        "\n",
        "\n",
        "class DownSampleResidualBlock(nn.Module):\n",
        "\n",
        "    in_channels: int\n",
        "    out_channels: int\n",
        "    kernel_init: Callable = nn.initializers.kaiming_normal()\n",
        "\n",
        "\n",
        "    @nn.compact\n",
        "    def __call__(self, x, train):\n",
        "        residual = x\n",
        "\n",
        "        x = nn.Conv(features=self.in_channels,\n",
        "                    kernel_size=(3, 3),\n",
        "                    strides=1,\n",
        "                    padding=\"SAME\",\n",
        "                    use_bias=False,\n",
        "                    kernel_init=self.kernel_init)(x)\n",
        "        x = nn.BatchNorm(use_running_average=not train, momentum=0.1, epsilon=1e-5)(x)\n",
        "        x = nn.relu(x)\n",
        "\n",
        "        x = nn.Conv(features=self.out_channels,\n",
        "                    kernel_size=(3, 3),\n",
        "                    strides=(2, 2),\n",
        "                    padding=(((1, 1), (1, 1))),\n",
        "                    use_bias=False,\n",
        "                    kernel_init=self.kernel_init)(x)\n",
        "        x = nn.BatchNorm(use_running_average=not train, momentum=0.1, epsilon=1e-5)(x)\n",
        "\n",
        "        x = x + self.pad_identity(residual)\n",
        "\n",
        "        return nn.relu(x)\n",
        "\n",
        "\n",
        "    @nn.nowrap\n",
        "    def pad_identity(self, x):\n",
        "        # Pad identity connection when downsampling\n",
        "        return jnp.pad(\n",
        "            x[:, ::2, ::2, ::],\n",
        "            ((0, 0), (0, 0), (0, 0), (self.out_channels // 4, self.out_channels // 4)),\n",
        "            \"constant\",\n",
        "        )\n",
        "\n",
        "\n",
        "class ResidualCNN(nn.Module):\n",
        "\n",
        "    kernel_init: Callable = nn.initializers.kaiming_normal()\n",
        "\n",
        "    @nn.compact\n",
        "    def __call__(self, x, train: bool):\n",
        "\n",
        "        x = nn.Conv(features=16, kernel_size=(3, 3), strides=1, padding=\"SAME\", use_bias=False, kernel_init=self.kernel_init)(x)\n",
        "        x = nn.BatchNorm(use_running_average=not train, momentum=0.1, epsilon=1e-5)(x)\n",
        "        x = nn.relu(x)\n",
        "\n",
        "        for _ in range(N-1):\n",
        "          x = ResidualBlock(in_channels=16)(x, train)\n",
        "        x = DownSampleResidualBlock(in_channels=16, out_channels=32)(x, train)\n",
        "\n",
        "        for _ in range(N-1):\n",
        "          x = ResidualBlock(in_channels=32)(x, train)\n",
        "        x = DownSampleResidualBlock(in_channels=32, out_channels=64)(x, train)\n",
        "\n",
        "        for _ in range(N):\n",
        "          x = ResidualBlock(in_channels=64)(x, train)\n",
        "\n",
        "        x = nn.avg_pool(x, window_shape=(x.shape[1], x.shape[2]))\n",
        "        x = x.reshape((x.shape[0], -1))  # Flatten\n",
        "        x = nn.Dense(features=10, kernel_init=self.kernel_init)(x) \n",
        "\n",
        "        return x"
      ]
    },
    {
      "cell_type": "markdown",
      "metadata": {},
      "source": [
        "### Next, Let's Set up the CIFAR-10 Dataset "
      ]
    },
    {
      "cell_type": "code",
      "execution_count": 10,
      "metadata": {
        "colab": {
          "base_uri": "https://localhost:8080/"
        },
        "id": "abKLx-f84uDt",
        "outputId": "5c63a21f-5bf9-4f5e-a9f3-864aa76f487f",
        "tags": [
          "hide-output",
          "remove-output"
        ]
      },
      "outputs": [
        {
          "name": "stdout",
          "output_type": "stream",
          "text": [
            "Files already downloaded and verified\n",
            "Files already downloaded and verified\n"
          ]
        }
      ],
      "source": [
        "import numpy as np\n",
        "import torchvision.transforms as transforms\n",
        "from torchvision.datasets import CIFAR10\n",
        "from torch.utils import data\n",
        "\n",
        "\n",
        "def numpy_collate(batch):\n",
        "    if isinstance(batch[0], np.ndarray):\n",
        "        return np.stack(batch)\n",
        "    elif isinstance(batch[0], (tuple, list)):\n",
        "        transposed = zip(*batch)\n",
        "        return [numpy_collate(samples) for samples in transposed]\n",
        "    else:\n",
        "        return np.array(batch)\n",
        "\n",
        "class FlattenAndCast(object):\n",
        "    def __call__(self, pic):\n",
        "        return np.array(pic.permute(1, 2, 0), dtype=jnp.float32)\n",
        "\n",
        "class NumpyLoader(data.DataLoader):\n",
        "    def __init__(\n",
        "        self,\n",
        "        dataset,\n",
        "        batch_size=1,\n",
        "        shuffle=False,\n",
        "        sampler=None,\n",
        "        batch_sampler=None,\n",
        "        num_workers=1,\n",
        "        pin_memory=False,\n",
        "        drop_last=False,\n",
        "        timeout=0,\n",
        "        worker_init_fn=None,\n",
        "    ):\n",
        "        super(self.__class__, self).__init__(\n",
        "            dataset,\n",
        "            batch_size=batch_size,\n",
        "            shuffle=shuffle,\n",
        "            sampler=sampler,\n",
        "            batch_sampler=batch_sampler,\n",
        "            num_workers=num_workers,\n",
        "            collate_fn=numpy_collate,\n",
        "            pin_memory=pin_memory,\n",
        "            drop_last=drop_last,\n",
        "            timeout=timeout,\n",
        "            worker_init_fn=worker_init_fn,\n",
        "        )\n",
        "\n",
        "\n",
        "transforms_train = transforms.Compose([\n",
        "    transforms.ToTensor(),\n",
        "    transforms.RandomCrop(\n",
        "        (32, 32),\n",
        "        padding=4,\n",
        "        fill=0,\n",
        "        padding_mode=\"constant\"\n",
        "    ),\n",
        "\n",
        "    transforms.RandomHorizontalFlip(),\n",
        "\n",
        "    transforms.Normalize(\n",
        "        mean=[0.4914, 0.4822, 0.4465], std=[0.2470, 0.2435, 0.2616]\n",
        "    ),\n",
        "    FlattenAndCast(),\n",
        "])\n",
        "\n",
        "\n",
        "transforms_test = transforms.Compose(\n",
        "    [\n",
        "        transforms.ToTensor(),\n",
        "        transforms.Normalize(\n",
        "            mean=[0.4914, 0.4822, 0.4465], std=[0.2470, 0.2435, 0.2616]\n",
        "        ),\n",
        "        FlattenAndCast(),\n",
        "    ]\n",
        ")\n",
        "\n",
        "train_dataset = CIFAR10(\n",
        "    root=\"./CIFAR\", train=True, download=True, transform=transforms_train\n",
        ")\n",
        "\n",
        "test_dataset = CIFAR10(\n",
        "    root=\"./CIFAR\", train=False, download=True, transform=transforms_test\n",
        ")\n",
        "\n",
        "BATCH_SIZE = 128\n",
        "\n",
        "train_loader = NumpyLoader(\n",
        "    train_dataset,\n",
        "    batch_size=BATCH_SIZE,\n",
        "    shuffle=True,\n",
        "    num_workers=0,\n",
        "    pin_memory=False\n",
        ")\n",
        "\n",
        "test_loader= NumpyLoader(\n",
        "    test_dataset,\n",
        "    batch_size=BATCH_SIZE,\n",
        "    shuffle=False,\n",
        "    num_workers=0,\n",
        "    pin_memory=False\n",
        ")\n",
        "\n"
      ]
    },
    {
      "cell_type": "markdown",
      "metadata": {},
      "source": [
        "### Finally, Let's Set Up The Training Loop"
      ]
    },
    {
      "cell_type": "code",
      "execution_count": 11,
      "metadata": {
        "id": "7jChaw_LgpnU"
      },
      "outputs": [],
      "source": [
        "import pickle\n",
        "\n",
        "rng = jax.random.PRNGKey(0)\n",
        "\n",
        "LEARNING_RATE = 0.1\n",
        "WEIGHT_DECAY = 1e-4\n",
        "NUM_EPOCHS = 180"
      ]
    },
    {
      "cell_type": "code",
      "execution_count": 12,
      "metadata": {
        "id": "SORggAbDEtBk"
      },
      "outputs": [],
      "source": [
        "import flax\n",
        "from flax.training import checkpoints\n",
        "\n",
        "def count_parameters(params):\n",
        "    return sum(jax.tree_util.tree_leaves(jax.tree_util.tree_map(lambda x: x.size, params)))\n",
        "\n",
        "\n",
        "def compute_weight_decay(params):\n",
        "    param_norm = 0\n",
        "\n",
        "    weight_decay_params_filter = flax.traverse_util.ModelParamTraversal(\n",
        "        lambda path, _: (\"bias\" not in path and \"scale\" not in path)\n",
        "    )\n",
        "\n",
        "    weight_decay_params = weight_decay_params_filter.iterate(params)\n",
        "\n",
        "    for p in weight_decay_params:\n",
        "        if p.ndim > 1:\n",
        "            param_norm += jnp.sum(p ** 2)\n",
        "\n",
        "    return param_norm\n",
        "\n",
        "# Create the train state\n",
        "def create_train_state(rng, cnn, train_size):\n",
        "    variables = cnn.init(rng, jnp.ones([1, 32, 32, 3]), True)\n",
        "    params = variables['params']\n",
        "\n",
        "    num_params = count_parameters(params)\n",
        "    print(f\"Initialized model with {num_params} parameters\")\n",
        "\n",
        "    batch_stats = None\n",
        "    if \"batch_stats\" in variables:\n",
        "        batch_stats = variables['batch_stats']\n",
        "\n",
        "    steps_per_epoch = train_size//BATCH_SIZE\n",
        "    scales = [81*steps_per_epoch, 122*steps_per_epoch]\n",
        "    print(scales)\n",
        "\n",
        "    lr_schedule = optax.schedules.piecewise_constant_schedule(init_value=LEARNING_RATE,\n",
        "                                                              boundaries_and_scales={scales[0]: 0.1, scales[1]: 0.1})\n",
        "\n",
        "    tx = optax.sgd(learning_rate=lr_schedule,\n",
        "                   momentum=0.9, nesterov=True)\n",
        "\n",
        "\n",
        "    return train_state.TrainState.create(apply_fn=cnn.apply,\n",
        "                                         params=params, tx=tx), batch_stats\n",
        "\n",
        "\n",
        "# Define the training and evaluation steps\n",
        "@jax.jit\n",
        "def train_step(state, images, labels, batch_stats):\n",
        "\n",
        "    def loss_fn(params, batch_stats):\n",
        "        logits, outputs = state.apply_fn({'params': params, 'batch_stats': batch_stats}, images, train=True, mutable=[\"batch_stats\"])\n",
        "\n",
        "        updated_batch_stats = outputs['batch_stats']\n",
        "\n",
        "        one_hot = jax.nn.one_hot(labels, num_classes=10)\n",
        "        loss = jnp.mean(optax.softmax_cross_entropy(logits, one_hot)) + 0.5 * WEIGHT_DECAY * compute_weight_decay(params)\n",
        "        return loss, (updated_batch_stats, logits)\n",
        "\n",
        "\n",
        "    grad_fn = jax.value_and_grad(loss_fn, has_aux=True)\n",
        "    outputs, grads = grad_fn(state.params, batch_stats)\n",
        "    loss, aux  = outputs\n",
        "    updated_batch_stats, logits = aux\n",
        "    predictions = jnp.argmax(logits, axis=-1)\n",
        "    accuracy = jnp.mean(predictions == labels)\n",
        "    grads_flat = jax.tree_util.tree_flatten(grads)[0][2]\n",
        "    grad_norm = jnp.linalg.norm(grads_flat)\n",
        "    state = state.apply_gradients(grads=grads)\n",
        "    return state, loss, accuracy, updated_batch_stats, grad_norm\n",
        "\n",
        "\n",
        "@jax.jit\n",
        "def eval_step(state, images, labels, batch_stats):\n",
        "    logits = state.apply_fn({'params': state.params, 'batch_stats': batch_stats}, images, train=False)\n",
        "    predictions = jnp.argmax(logits, axis=-1)\n",
        "    accuracy = jnp.mean(predictions == labels)\n",
        "    one_hot = jax.nn.one_hot(labels, num_classes=10)\n",
        "    loss = jnp.mean(optax.softmax_cross_entropy(logits, one_hot)) + 0.5 * WEIGHT_DECAY * compute_weight_decay(state.params)\n",
        "    return loss, accuracy\n",
        "\n",
        "\n",
        "# Training loop\n",
        "def train_and_evaluate(state, batch_stats, metrics):\n",
        "\n",
        "    iter = 0\n",
        "\n",
        "    # Prepare data batches\n",
        "    for epoch in range(NUM_EPOCHS):\n",
        "\n",
        "        # Training\n",
        "        train_losses = []\n",
        "        train_accuracies = []\n",
        "\n",
        "        for images, labels in train_loader:\n",
        "\n",
        "            state, loss, accuracy, batch_stats, grad_norm = train_step(state, images, labels, batch_stats)\n",
        "            train_losses.append(loss)\n",
        "            train_accuracies.append(accuracy)\n",
        "\n",
        "            metrics[\"train_losses\"].append(loss)\n",
        "            metrics[\"grad_norms\"].append(grad_norm)\n",
        "            iter += 1\n",
        "\n",
        "        # Evaluation\n",
        "        test_losses = []\n",
        "        test_accuracies = []\n",
        "        for images, labels in test_loader:\n",
        "\n",
        "            loss, accuracy = eval_step(state, images, labels, batch_stats)\n",
        "            test_losses.append(loss)\n",
        "            test_accuracies.append(accuracy)\n",
        "\n",
        "            metrics[\"test_losses\"].append(loss)\n",
        "\n",
        "\n",
        "        # Compute mean loss\n",
        "        epoch_train_loss = jnp.mean(jnp.array(train_losses))\n",
        "        epoch_test_loss = jnp.mean(jnp.array(test_losses))\n",
        "\n",
        "\n",
        "        # Compute mean accuracy\n",
        "        train_accuracy = jnp.mean(jnp.array(train_accuracies)) \n",
        "        test_accuracy = jnp.mean(jnp.array(test_accuracies)) \n",
        "\n",
        "\n",
        "        print(f\"Iter: {iter + 1}, Epoch {epoch + 1}, Train Loss: {epoch_train_loss:.4f}, Test Loss: {epoch_test_loss:.4f}, Train Accuracy: {train_accuracy:.4f}, Test Accuracy: {test_accuracy:.4f}\")\n",
        "\n",
        "    return state, batch_stats"
      ]
    },
    {
      "cell_type": "code",
      "execution_count": 13,
      "metadata": {
        "id": "UnAZC0hD8EKo",
        "tags": [
          "hide-input",
          "remove-cell"
        ]
      },
      "outputs": [],
      "source": [
        "OUTPUT_DIR = \"/Users/vikram/dev/vikrampawar.com/site/CIFAR10_ResNet\""
      ]
    },
    {
      "cell_type": "markdown",
      "metadata": {
        "id": "OTFwpNIdyV0W"
      },
      "source": [
        "### Let's train the deep CNN first"
      ]
    },
    {
      "cell_type": "code",
      "execution_count": null,
      "metadata": {
        "nbsphinx": "scrolling",
        "tags": [
          "skip-execution",
          "output_scroll"
        ]
      },
      "outputs": [
        {
          "name": "stdout",
          "output_type": "stream",
          "text": [
            "Initialized model with 887674 parameters\n",
            "[31590, 47580]\n",
            "Iter: 392, Epoch 1, Train Loss: 50.2543, Test Loss: 50.0755, Train Accuracy: 0.1167, Test Accuracy: 0.1640\n",
            "Iter: 3911, Epoch 10, Train Loss: 26.2238, Test Loss: 25.1934, Train Accuracy: 0.4198, Test Accuracy: 0.4510\n",
            "Iter: 7821, Epoch 20, Train Loss: 12.5631, Test Loss: 12.0801, Train Accuracy: 0.5612, Test Accuracy: 0.5836\n",
            "Iter: 11731, Epoch 30, Train Loss: 6.2287, Test Loss: 6.0489, Train Accuracy: 0.6642, Test Accuracy: 0.6701\n",
            "Iter: 15641, Epoch 40, Train Loss: 3.3054, Test Loss: 3.2341, Train Accuracy: 0.7286, Test Accuracy: 0.7319\n",
            "Iter: 19551, Epoch 50, Train Loss: 1.9402, Test Loss: 1.9019, Train Accuracy: 0.7693, Test Accuracy: 0.7702\n",
            "Iter: 23461, Epoch 60, Train Loss: 1.2954, Test Loss: 1.3155, Train Accuracy: 0.7955, Test Accuracy: 0.7888\n",
            "Iter: 27371, Epoch 70, Train Loss: 0.9919, Test Loss: 1.0418, Train Accuracy: 0.8175, Test Accuracy: 0.8013\n",
            "Iter: 31281, Epoch 80, Train Loss: 0.8417, Test Loss: 0.8919, Train Accuracy: 0.8293, Test Accuracy: 0.8174\n",
            "Iter: 35191, Epoch 90, Train Loss: 0.5957, Test Loss: 0.7632, Train Accuracy: 0.9009, Test Accuracy: 0.8533\n",
            "Iter: 39101, Epoch 100, Train Loss: 0.5425, Test Loss: 0.7237, Train Accuracy: 0.9113, Test Accuracy: 0.8616\n",
            "Iter: 43011, Epoch 110, Train Loss: 0.4964, Test Loss: 0.7670, Train Accuracy: 0.9220, Test Accuracy: 0.8539\n",
            "Iter: 50831, Epoch 130, Train Loss: 0.4119, Test Loss: 0.7183, Train Accuracy: 0.9447, Test Accuracy: 0.8662\n",
            "Iter: 58651, Epoch 150, Train Loss: 0.3932, Test Loss: 0.7557, Train Accuracy: 0.9487, Test Accuracy: 0.8598\n",
            "Iter: 66471, Epoch 170, Train Loss: 0.3815, Test Loss: 0.7593, Train Accuracy: 0.9504, Test Accuracy: 0.8644\n",
            "Iter: 70381, Epoch 180, Train Loss: 0.3731, Test Loss: 0.7683, Train Accuracy: 0.9541, Test Accuracy: 0.8602\n"
          ]
        }
      ],
      "source": [
        "# Create the train state\n",
        "deepcnn_state, deepcnn_batch_stats = create_train_state(rng, DeepCNN(), 50000)\n",
        "\n",
        "# Create the metrics object\n",
        "deepcnn_metrics = {\n",
        "    \"grad_norms\": [],\n",
        "    \"train_losses\": [],\n",
        "    \"test_losses\": []\n",
        "}\n",
        "\n",
        "# Run the training\n",
        "deepcnn_state, deepcnn_batch_stats = train_and_evaluate(deepcnn_state, deepcnn_batch_stats, deepcnn_metrics)\n",
        "\n",
        "# Save model checkpoint\n",
        "checkpoints.save_checkpoint(ckpt_dir=f\"{OUTPUT_DIR}/ckpts/deepcnn-56\",\n",
        "                            target=deepcnn_state, step=NUM_EPOCHS,\n",
        "                            overwrite=True)\n",
        "\n",
        "\n",
        "# Save batch statistics to a file\n",
        "with open(f\"{OUTPUT_DIR}/batch_stats/deepcnn-56.pkl\", \"wb\") as f:\n",
        "    pickle.dump(deepcnn_batch_stats, f)\n",
        "\n",
        "\n",
        "# Save metrics to a file\n",
        "with open(f\"{OUTPUT_DIR}/metrics/deepcnn-56.pkl\", \"wb\") as f:\n",
        "  pickle.dump(deepcnn_metrics, f)"
      ]
    },
    {
      "cell_type": "markdown",
      "metadata": {
        "id": "kesmd1blyZMk"
      },
      "source": [
        "### Now let's train the Resnet"
      ]
    },
    {
      "cell_type": "code",
      "execution_count": null,
      "metadata": {
        "colab": {
          "base_uri": "https://localhost:8080/"
        },
        "id": "8MCtZ-aiydOr",
        "outputId": "66808f4f-84d4-41f6-f474-0fefdb16d801",
        "tags": [
          "skip-execution",
          "output_scroll",
          "nbsphinx-scroll"
        ]
      },
      "outputs": [
        {
          "name": "stdout",
          "output_type": "stream",
          "text": [
            "Initialized model with 887674 parameters\n",
            "[31590, 47580]\n",
            "Iter: 392, Epoch 1, Train Loss: 2.6827, Test Loss: 2.2537, Train Accuracy: 0.1574, Test Accuracy: 0.2668\n",
            "Iter: 3911, Epoch 10, Train Loss: 0.7960, Test Loss: 0.8215, Train Accuracy: 0.8053, Test Accuracy: 0.8036\n",
            "Iter: 11731, Epoch 30, Train Loss: 0.4864, Test Loss: 0.6266, Train Accuracy: 0.9047, Test Accuracy: 0.8698\n",
            "Iter: 19551, Epoch 50, Train Loss: 0.4241, Test Loss: 0.6134, Train Accuracy: 0.9309, Test Accuracy: 0.8865\n",
            "Iter: 27371, Epoch 70, Train Loss: 0.4042, Test Loss: 0.6415, Train Accuracy: 0.9405, Test Accuracy: 0.8832\n",
            "Iter: 35191, Epoch 90, Train Loss: 0.2507, Test Loss: 0.5636, Train Accuracy: 0.9917, Test Accuracy: 0.9181\n",
            "Iter: 43011, Epoch 110, Train Loss: 0.2034, Test Loss: 0.6214, Train Accuracy: 0.9973, Test Accuracy: 0.9196\n",
            "Iter: 50831, Epoch 130, Train Loss: 0.1813, Test Loss: 0.5837, Train Accuracy: 0.9985, Test Accuracy: 0.9214\n",
            "Iter: 58651, Epoch 150, Train Loss: 0.1779, Test Loss: 0.6058, Train Accuracy: 0.9990, Test Accuracy: 0.9183\n",
            "Iter: 66471, Epoch 170, Train Loss: 0.1747, Test Loss: 0.5969, Train Accuracy: 0.9991, Test Accuracy: 0.9210\n",
            "Iter: 70381, Epoch 180, Train Loss: 0.1731, Test Loss: 0.5919, Train Accuracy: 0.9992, Test Accuracy: 0.9201\n",
            "Trained model with 887674 parameters\n"
          ]
        }
      ],
      "source": [
        "# Create the train state\n",
        "resnet_state, resnet_batch_stats = create_train_state(rng, ResidualCNN(), 50000)\n",
        "\n",
        "# Create the metrics object\n",
        "resnet_metrics = {\n",
        "    \"grad_norms\": [],\n",
        "    \"train_losses\": [],\n",
        "    \"test_losses\": []\n",
        "}\n",
        "\n",
        "# Run the training\n",
        "resnet_state, resnet_batch_stats = train_and_evaluate(resnet_state, resnet_batch_stats, resnet_metrics)\n",
        "\n",
        "\n",
        "num_params = count_parameters(resnet_state.params)\n",
        "print(f\"Trained model with {num_params} parameters\")\n",
        "\n",
        "# Save model checkpoint\n",
        "checkpoints.save_checkpoint(ckpt_dir=f\"{OUTPUT_DIR}/ckpts/resnet-56\",\n",
        "                            target=resnet_state,\n",
        "                            step=NUM_EPOCHS,\n",
        "                            overwrite=True)\n",
        "\n",
        "# Save batch statistics to a file\n",
        "with open(f\"{OUTPUT_DIR}/batch_stats/resnet-56.pkl\", \"wb\") as f:\n",
        "    pickle.dump(resnet_batch_stats, f)\n",
        "\n",
        "\n",
        "# Save metrics to a file\n",
        "with open(f\"{OUTPUT_DIR}/metrics/resnet-56.pkl\", \"wb\") as f:\n",
        "  pickle.dump(resnet_metrics, f)"
      ]
    },
    {
      "cell_type": "markdown",
      "metadata": {},
      "source": [
        "### Results"
      ]
    },
    {
      "cell_type": "markdown",
      "metadata": {
        "id": "WYHm04HkOqUZ"
      },
      "source": [
        "| Model        | Conv Layers  |50 epochs. | 100 epochs | 180 epochs |\n",
        "|--------------|--------------|-----------|------------|------------|\n",
        "| DeepCNN      | 20           |  0.8720   |  0.8808    |  0.8860    |\n",
        "| ResNet      | 20           |  0.8861   |  0.8881    |  0.8985    |\n",
        "| DeepCNN      | 56           |  0.7702   |  0.8616    |  0.8602    |  \n",
        "| ResNet       | 56           |  0.8865   |  0.9174    |  0.9201    |\n"
      ]
    },
    {
      "cell_type": "markdown",
      "metadata": {},
      "source": [
        " The ResNet architecture performs better on the test set in both the 20 and 56 layer configurations. However, notice how much better ResNet-56 does than the corresponding plain network. Clearly, residual connections become much more useful as the depth of the network increases."
      ]
    },
    {
      "cell_type": "code",
      "execution_count": null,
      "metadata": {
        "colab": {
          "base_uri": "https://localhost:8080/"
        },
        "id": "1rDARxCZOpbG",
        "outputId": "4ca28c77-5360-4edb-aa2d-69f06dfc8294",
        "tags": [
          "remove-output",
          "remove-input"
        ]
      },
      "outputs": [
        {
          "name": "stderr",
          "output_type": "stream",
          "text": [
            "WARNING:absl:The transformations API will eventually be replaced by an upgraded design. The current API will not be removed until this point, but it will no longer be actively worked on.\n"
          ]
        },
        {
          "name": "stdout",
          "output_type": "stream",
          "text": [
            "Initialized model with 887674 parameters\n",
            "[31590, 47580]\n"
          ]
        },
        {
          "name": "stderr",
          "output_type": "stream",
          "text": [
            "WARNING:absl:The transformations API will eventually be replaced by an upgraded design. The current API will not be removed until this point, but it will no longer be actively worked on.\n"
          ]
        },
        {
          "name": "stdout",
          "output_type": "stream",
          "text": [
            "Initialized model with 887674 parameters\n",
            "[31590, 47580]\n"
          ]
        }
      ],
      "source": [
        "# Load saved checkpoints\n",
        "deepcnn_state, _ = create_train_state(rng, DeepCNN(), 50000)\n",
        "deepcnn_state = checkpoints.restore_checkpoint(ckpt_dir=f\"{OUTPUT_DIR}/ckpts/deepcnn-56/\", target=deepcnn_state, step=NUM_EPOCHS)\n",
        "\n",
        "resnet_state, _ = create_train_state(rng, ResidualCNN(), 50000)\n",
        "resnet_state = checkpoints.restore_checkpoint(ckpt_dir=f\"{OUTPUT_DIR}/ckpts/resnet-56/\", target=resnet_state, step=NUM_EPOCHS)\n",
        "\n",
        "# Load batch stats\n",
        "f = open(f\"{OUTPUT_DIR}/batch_stats/deepcnn-56.pkl\", \"rb\")\n",
        "deepcnn_batch_stats = pickle.load(f)\n",
        "\n",
        "f = open(f\"{OUTPUT_DIR}/batch_stats/resnet-56.pkl\", \"rb\")\n",
        "resnet_batch_stats = pickle.load(f)\n",
        "\n",
        "# Load metrics\n",
        "deepcnn_metrics = pickle.load(open(f\"{OUTPUT_DIR}/metrics/deepcnn-56.pkl\", \"rb\"))\n",
        "resnet_metrics = pickle.load(open(f\"{OUTPUT_DIR}/metrics/resnet-56.pkl\", \"rb\"))"
      ]
    },
    {
      "cell_type": "markdown",
      "metadata": {
        "id": "bAzg-ZgvEtBl"
      },
      "source": [
        "## So Why do Skip Connections Work?\n",
        "\n",
        "### 1.   Better Gradient Propagation\n",
        "\n",
        "\n"
      ]
    },
    {
      "cell_type": "code",
      "execution_count": null,
      "metadata": {
        "colab": {
          "base_uri": "https://localhost:8080/",
          "height": 430
        },
        "id": "KNCUEzN0MN0v",
        "outputId": "4d9c620d-2cbd-4129-b71d-1defbc61ddd0",
        "tags": [
          "hide-input"
        ]
      },
      "outputs": [
        {
          "data": {
            "image/png": "[encoded data removed]",
            "text/plain": [
              "<Figure size 640x480 with 1 Axes>"
            ]
          },
          "metadata": {},
          "output_type": "display_data"
        }
      ],
      "source": [
        "import matplotlib.pyplot as plt\n",
        "plt.style.use('seaborn-v0_8-darkgrid')\n",
        "\n",
        "plt.plot(resnet_metrics[\"grad_norms\"][30:], label=\"Resnet-56\")\n",
        "plt.plot(deepcnn_metrics[\"grad_norms\"][20:], label=\"DeepCNN-56\")\n",
        "plt.title(\"Gradient Norms\")\n",
        "plt.xlabel(\"Iteration\")\n",
        "plt.ylabel(\"Gradient Norm\")\n",
        "plt.legend()\n",
        "\n",
        "plt.show()"
      ]
    },
    {
      "cell_type": "markdown",
      "metadata": {},
      "source": [
        "The plot above compares the magnitude of the gradient of the loss function with and without residual connections. It is clear that the gradient is consistently larger with residual connections. "
      ]
    },
    {
      "cell_type": "markdown",
      "metadata": {
        "id": "3TeWwAyBAyFX"
      },
      "source": [
        "### 2. Smoother and more convex loss surface"
      ]
    },
    {
      "cell_type": "markdown",
      "metadata": {
        "id": "7_belnqMqcAR"
      },
      "source": [
        "\n",
        "In the paper Visualizing the Loss Landscape of Neural Networks, Li et al. demonstrated that deep neural networks tend to develop progressively more chaotic and non-convex loss surfaces. \n",
        "\n",
        "However, by using residual connections, the loss surface tends to remain relatively convex even for very deep networks. \n",
        "It is possible to demonstrate this by plotting and comparing the loss surfaces of networks with and without residual connections. \n",
        "\n",
        "I will show this in future work. "
      ]
    },
    {
      "cell_type": "markdown",
      "metadata": {
        "id": "9PJcEovotV4I"
      },
      "source": [
        "### Result: Faster Convergence\n"
      ]
    },
    {
      "cell_type": "code",
      "execution_count": null,
      "metadata": {
        "tags": [
          "hide-input"
        ]
      },
      "outputs": [
        {
          "data": {
            "image/png": "[encoded data removed]",
            "text/plain": [
              "<Figure size 1000x400 with 2 Axes>"
            ]
          },
          "metadata": {},
          "output_type": "display_data"
        }
      ],
      "source": [
        "fig, axs = plt.subplots(1, 2, figsize=(10, 4))\n",
        "\n",
        "axs[0].plot(resnet_metrics[\"train_losses\"][30:], label=\"Resnet-56\")\n",
        "axs[0].plot(deepcnn_metrics[\"train_losses\"][30:], label=\"DeepCNN-56\")\n",
        "axs[0].set_title(\"Training Loss\")\n",
        "axs[0].set_xlabel(\"Iteration\")\n",
        "axs[0].set_ylabel(\"Loss\")\n",
        "\n",
        "axs[1].plot(resnet_metrics[\"test_losses\"], label=\"Resnet-56\")\n",
        "axs[1].plot(deepcnn_metrics[\"test_losses\"], label=\"DeepCNN-56\")\n",
        "axs[1].set_title(\"Test Loss\")\n",
        "axs[1].set_xlabel(\"Iteration\")\n",
        "axs[1].set_ylabel(\"Loss\")\n",
        "\n",
        "plt.legend()\n",
        "plt.show()"
      ]
    },
    {
      "cell_type": "markdown",
      "metadata": {},
      "source": [
        "All this leads to faster convergence. As it is clear from the plots above, the ResNet model converges much quicker than the DeepCNN model."
      ]
    },
    {
      "cell_type": "markdown",
      "metadata": {
        "id": "nIOMqRGZEtBl"
      },
      "source": [
        "### References:\n",
        "\n",
        "1.\tSrivastava, R. K., Greff, K., & Schmidhuber, J. (2015). Highway networks. arXiv preprint arXiv:1505.00387.\n",
        "2.\tHe, K., Zhang, X., Ren, S., & Sun, J. (2015). Deep residual learning for image recognition. Proceedings of the IEEE Conference on Computer Vision and Pattern Recognition (CVPR), 770–778.\n",
        "3.\tKeskar, N. S., Mudigere, D., Nocedal, J., Smelyanskiy, M., & Tang, P. T. P. (2017). On large-batch training for deep learning: Generalization gap and sharp minima. arXiv preprint arXiv:1609.04836.\n",
        "4.\tIm, D. J., Kim, C. D., Jiang, H., & Memisevic, R. (2017). An empirical analysis of the optimization of deep network loss surfaces. arXiv preprint arXiv:1612.04010.\n",
        "5.\tLi, H., Xu, Z., Taylor, G., Studer, C., & Goldstein, T. (2018). Visualizing the loss landscape of neural nets. Advances in Neural Information Processing Systems (NeurIPS), 31."
      ]
    },
    {
      "cell_type": "markdown",
      "metadata": {
        "id": "kBRoThPEEtBl"
      },
      "source": []
    }
  ],
  "metadata": {
    "accelerator": "GPU",
    "colab": {
      "gpuType": "T4",
      "machine_shape": "hm",
      "provenance": []
    },
    "kernelspec": {
      "display_name": "Python 3",
      "name": "python3"
    },
    "language_info": {
      "codemirror_mode": {
        "name": "ipython",
        "version": 3
      },
      "file_extension": ".py",
      "mimetype": "text/x-python",
      "name": "python",
      "nbconvert_exporter": "python",
      "pygments_lexer": "ipython3",
      "version": "3.12.4"
    }
  },
  "nbformat": 4,
  "nbformat_minor": 0
}
